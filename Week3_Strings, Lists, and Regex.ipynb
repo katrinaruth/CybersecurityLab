{
 "cells": [
  {
   "cell_type": "code",
   "execution_count": 12,
   "id": "5b94de08",
   "metadata": {},
   "outputs": [
    {
     "name": "stdout",
     "output_type": "stream",
     "text": [
      "4\n"
     ]
    }
   ],
   "source": [
    "#scenario: extracting substrings from employee IDs\n",
    "#converting an int to a string\n",
    "employee_id = 4186\n",
    "employee_id = str(employee_id)\n",
    "employee_id = len(employee_id)\n",
    "print(employee_id)"
   ]
  },
  {
   "cell_type": "code",
   "execution_count": 30,
   "id": "44ecda0d",
   "metadata": {},
   "outputs": [
    {
     "name": "stdout",
     "output_type": "stream",
     "text": [
      "5432E\n"
     ]
    }
   ],
   "source": [
    "employee_id = 5432\n",
    "employee_id = str(employee_id)\n",
    "idlength = len(employee_id)\n",
    "\n",
    "if idlength < 5 and idlength != 0:\n",
    "    employee_id = employee_id + \"E\"\n",
    "    print(employee_id)\n",
    "elif idlength == 5:\n",
    "    print(\"This employee ID has five digits.\")\n",
    "else:\n",
    "    print(\"Invalid employee ID\")"
   ]
  },
  {
   "cell_type": "code",
   "execution_count": 32,
   "id": "666e878c",
   "metadata": {},
   "outputs": [
    {
     "data": {
      "text/plain": [
       "'r26'"
      ]
     },
     "execution_count": 32,
     "metadata": {},
     "output_type": "execute_result"
    }
   ],
   "source": [
    "#indexing and slicing\n",
    "device_id = \"r262c36\"\n",
    "device_id[3]\n",
    "device_id[0:3:1]"
   ]
  },
  {
   "cell_type": "code",
   "execution_count": 37,
   "id": "2ae8432c",
   "metadata": {},
   "outputs": [
    {
     "name": "stdout",
     "output_type": "stream",
     "text": [
      "19\n"
     ]
    }
   ],
   "source": [
    "#slicing a url\n",
    "url = \"https://exampleURL1.com\"\n",
    "url[0:8]\n",
    "\n",
    "#indexing a url\n",
    "ind = url.index(\".com\")\n",
    "print(ind)"
   ]
  },
  {
   "cell_type": "code",
   "execution_count": 61,
   "id": "fdc1adac",
   "metadata": {},
   "outputs": [
    {
     "name": "stdout",
     "output_type": "stream",
     "text": [
      "The user sgilmore is approved to access the system.\n",
      "2\n",
      "4n482ts\n",
      "The user sgilmore is approved to access the system, but a307vir is not their assigned device.\n"
     ]
    }
   ],
   "source": [
    "#developing algorithms\n",
    "#scenario: the index of an approved user must correspond to the index of the device_id\n",
    "approved_users = [\"elarson\", \"bmoreno\", \"tshah\", \"sgilmore\", \"eraab\"]\n",
    "approved_devices = [\"8rp2k75\", \"hl0s5o1\", \"2ye3lzg\", \"4n482ts\", \"a307vir\"]\n",
    "new_user = \"gesparza\"\n",
    "new_device = \"3rcv4w6\"\n",
    "\n",
    "#add approved user and device\n",
    "approved_users.append(new_user)\n",
    "approved_devices.append(new_device)\n",
    "\n",
    "#remove a user and a device ID from a list\n",
    "removed_user = \"tshah\"\n",
    "removed_device = \"2ye3lzg\"\n",
    "approved_users.remove(removed_user)\n",
    "approved_devices.remove(removed_device)\n",
    "\n",
    "username = \"sgilmore\"\n",
    "device_id = \"a307vir\"\n",
    "\n",
    "if username in approved_users:\n",
    "    print(\"The user\", username, \"is approved to access the system.\")\n",
    "else: \n",
    "    print(\"The user\", username, \"is not approved to access the system.\")\n",
    "    \n",
    "    \n",
    "ind = approved_users.index(username)\n",
    "print(ind)\n",
    "\n",
    "print(approved_devices[ind])\n",
    "\n",
    "if username in approved_users and device_id == approved_devices[ind]:\n",
    "    print(\"The username\", username, \"is approved to access the system.\")\n",
    "    print(device_id, \"is the assigned device for\", username)\n",
    "elif username in approved_users and device_id != approved_devices[ind]:\n",
    "    print(\"The user\", username, \"is approved to access the system, but\", device_id, \"is not their assigned device.\")"
   ]
  },
  {
   "cell_type": "code",
   "execution_count": 68,
   "id": "4f186c88",
   "metadata": {},
   "outputs": [
    {
     "name": "stdout",
     "output_type": "stream",
     "text": [
      "The user sgilmore is approved to access the system, but a307vir is not their assigned device.\n",
      "The username sgilmore is approved to access the system.\n",
      "4n482ts is the assigned device for sgilmore\n"
     ]
    }
   ],
   "source": [
    "#scenario: automating logins using a function\n",
    "\n",
    "def login(username, device_id):\n",
    "    if username in approved_users and device_id == approved_devices[ind]:\n",
    "        print(\"The username\", username, \"is approved to access the system.\")\n",
    "        print(device_id, \"is the assigned device for\", username)\n",
    "    elif username in approved_users and device_id != approved_devices[ind]:\n",
    "        print(\"The user\", username, \"is approved to access the system, but\", device_id, \"is not their assigned device.\")\n",
    "login(\"sgilmore\", \"a307vir\")\n",
    "login(\"sgilmore\",\"4n482ts\")"
   ]
  },
  {
   "cell_type": "code",
   "execution_count": 73,
   "id": "4f4a0053",
   "metadata": {},
   "outputs": [
    {
     "name": "stdout",
     "output_type": "stream",
     "text": [
      "['r151dm4', 'r15xk9h', 'r15u9q5', 'r159r1u']\n",
      "eraab 2022-05-10 6:03:41 192.168.152.148 \n",
      "iuduike 2022-05-09 6:46:40 192.168.22.115 \n",
      "smartell 2022-05-09 19:30:32 192.168.190.178 \n",
      "arutley 2022-05-12 17:00:59 1923.1689.3.24 \n",
      "rjensen 2022-05-11 0:59:26 192.168.213.128 \n",
      "aestrada 2022-05-09 19:28:12 1924.1680.27.57 \n",
      "asundara 2022-05-11 18:38:07 192.168.96.200 \n",
      "dkot 2022-05-12 10:52:00 1921.168.1283.75 \n",
      "abernard 2022-05-12 23:38:46 19245.168.2345.49 \n",
      "cjackson 2022-05-12 19:36:42 192.168.247.153 \n",
      "jclark 2022-05-10 10:48:02 192.168.174.117 \n",
      "alevitsk 2022-05-08 12:09:10 192.16874.1390.176 \n",
      "jrafael 2022-05-10 22:40:01 192.168.148.115 \n",
      "yappiah 2022-05-12 10:37:22 192.168.103.10654 \n",
      "daquino 2022-05-08 7:02:35 192.168.168.144\n",
      "['192.168.152.148', '192.168.190.178', '192.168.213.128', '192.168.247.153', '192.168.174.117', '192.168.148.115', '192.168.103.106', '192.168.168.144']\n"
     ]
    }
   ],
   "source": [
    "#regular experessions\n",
    "\n",
    "import re\n",
    "devices = \"r262c36 67bv8fy 41j1u2e r151dm4 1270t3o 42dr56i r15xk9h 2j33krk 253be78 ac742a1 r15u9q5 zh86b2l ii286fq 9x482kt 6oa6m6u x3463ac i4l56nq g07h55q 081qc9t r159r1u\"\n",
    "\n",
    "#scenario: extract the device IDs that start with the characters \"r15\"\n",
    "print(re.findall(\"r15\\w+\",devices))\n",
    "\n",
    "log_file = \"eraab 2022-05-10 6:03:41 192.168.152.148 \\niuduike 2022-05-09 6:46:40 192.168.22.115 \\nsmartell 2022-05-09 19:30:32 192.168.190.178 \\narutley 2022-05-12 17:00:59 1923.1689.3.24 \\nrjensen 2022-05-11 0:59:26 192.168.213.128 \\naestrada 2022-05-09 19:28:12 1924.1680.27.57 \\nasundara 2022-05-11 18:38:07 192.168.96.200 \\ndkot 2022-05-12 10:52:00 1921.168.1283.75 \\nabernard 2022-05-12 23:38:46 19245.168.2345.49 \\ncjackson 2022-05-12 19:36:42 192.168.247.153 \\njclark 2022-05-10 10:48:02 192.168.174.117 \\nalevitsk 2022-05-08 12:09:10 192.16874.1390.176 \\njrafael 2022-05-10 22:40:01 192.168.148.115 \\nyappiah 2022-05-12 10:37:22 192.168.103.10654 \\ndaquino 2022-05-08 7:02:35 192.168.168.144\"\n",
    "\n",
    "print(log_file)\n",
    "\n",
    "pattern = re.findall(\"\\d{3}\\.\\d{3}\\.\\d{3}\\.\\d{3}\",log_file)\n",
    "print(pattern)"
   ]
  },
  {
   "cell_type": "code",
   "execution_count": null,
   "id": "989eb3c1",
   "metadata": {},
   "outputs": [],
   "source": []
  }
 ],
 "metadata": {
  "kernelspec": {
   "display_name": "Python 3 (ipykernel)",
   "language": "python",
   "name": "python3"
  },
  "language_info": {
   "codemirror_mode": {
    "name": "ipython",
    "version": 3
   },
   "file_extension": ".py",
   "mimetype": "text/x-python",
   "name": "python",
   "nbconvert_exporter": "python",
   "pygments_lexer": "ipython3",
   "version": "3.11.3"
  }
 },
 "nbformat": 4,
 "nbformat_minor": 5
}
