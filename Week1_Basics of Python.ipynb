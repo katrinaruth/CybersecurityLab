{
 "cells": [
  {
   "cell_type": "code",
   "execution_count": 12,
   "id": "cdae5520",
   "metadata": {},
   "outputs": [
    {
     "name": "stdout",
     "output_type": "stream",
     "text": [
      "Hello World!\n",
      "I am a security analyst!\n",
      "<class 'str'>\n",
      "<class 'list'>\n",
      "['madebowa', 'jnguyen', 'tbecker', 'nhersh', 'redwards', 'lpope']\n",
      "<class 'int'>\n"
     ]
    },
    {
     "data": {
      "text/plain": [
       "True"
      ]
     },
     "execution_count": 12,
     "metadata": {},
     "output_type": "execute_result"
    }
   ],
   "source": [
    "#This hands-on activity is part of the Google Cybersecurity Specialization\n",
    "\n",
    "#Week 1 tasks\n",
    "print(\"Hello World!\")\n",
    "print(\"I am a security analyst!\")\n",
    "\n",
    "#Variable assignments\n",
    "username_list = [\"madebowa\", \"jnguyen\", \"tbecker\", \"nhersh\", \"redwards\"]\n",
    "device_id = \"72e08x0\"\n",
    "print(type(device_id))\n",
    "username_list_type = type(username_list)\n",
    "print(username_list_type)\n",
    "\n",
    "#adding employees w/ access to the system\n",
    "new_user = \"lpope\"\n",
    "username_list.append(new_user)\n",
    "print(username_list)\n",
    "\n",
    "login_attempts = 2\n",
    "max_logins = 3\n",
    "max_logins_type = type(max_logins)\n",
    "print(max_logins_type)\n",
    "\n",
    "max_logins > login_attempts"
   ]
  },
  {
   "cell_type": "code",
   "execution_count": 34,
   "id": "58e0f941",
   "metadata": {},
   "outputs": [
    {
     "name": "stdout",
     "output_type": "stream",
     "text": [
      "OS not defined\n",
      "Invalid user!\n"
     ]
    }
   ],
   "source": [
    "#conditional statements\n",
    "\n",
    "#scenario: checking if a user's OS is up-to-date\n",
    "operating_system = \"OS 5\"\n",
    "\n",
    "if operating_system == \"OS 2\":\n",
    "    print(\"OS is up-to-date\")\n",
    "elif operating_system == \"OS 1\" or operating_system == \"OS 3\":\n",
    "    print(\"please update OS\")\n",
    "else:\n",
    "    print(\"OS not defined\")\n",
    "    \n",
    "#scenario: granting access to specified users\n",
    "approved_list = [\"krla_27\", \"fp1241\"]\n",
    "username = \"ccl-50\"\n",
    "if username in approved_list:\n",
    "    print(\"Valid user.\")\n",
    "else:\n",
    "    print(\"Invalid user!\")"
   ]
  },
  {
   "cell_type": "code",
   "execution_count": 39,
   "id": "103cdb7c",
   "metadata": {},
   "outputs": [
    {
     "name": "stdout",
     "output_type": "stream",
     "text": [
      "Connection could not be established\n",
      "Connection could not be established\n",
      "Connection could not be established\n"
     ]
    }
   ],
   "source": [
    "#loops\n",
    "\n",
    "for i in range(3):  #for loop is used to iterate based on a specified sequence\n",
    "    print(\"Connection could not be established\")"
   ]
  },
  {
   "cell_type": "code",
   "execution_count": 40,
   "id": "e80b8c7f",
   "metadata": {},
   "outputs": [
    {
     "name": "stdout",
     "output_type": "stream",
     "text": [
      "Connection could not be established\n",
      "Connection could not be established\n",
      "Connection could not be established\n"
     ]
    }
   ],
   "source": [
    "#while loop iterates a condition until a certain value is returned\n",
    "connection_attempt = 0\n",
    "while connection_attempt < 3:\n",
    "    print(\"Connection could not be established\")\n",
    "    connection_attempt = connection_attempt + 1"
   ]
  },
  {
   "cell_type": "code",
   "execution_count": 44,
   "id": "90cd9696",
   "metadata": {},
   "outputs": [
    {
     "name": "stdout",
     "output_type": "stream",
     "text": [
      "192.168.142.245\n",
      "192.168.109.50\n",
      "192.168.86.232\n",
      "192.168.131.147\n",
      "192.168.205.12\n",
      "192.168.200.48\n"
     ]
    }
   ],
   "source": [
    "#scenario: check if IP address is inlcuded in the allowed list of IP addresses\n",
    "\n",
    "ip_addresses = [\"192.168.142.245\", \"192.168.109.50\", \"192.168.86.232\", \"192.168.131.147\",\n",
    "                \"192.168.205.12\", \"192.168.200.48\"]\n",
    "for i in ip_addresses: #i is the loop variable\n",
    "    print(i)"
   ]
  },
  {
   "cell_type": "code",
   "execution_count": 54,
   "id": "e473da1c",
   "metadata": {},
   "outputs": [
    {
     "name": "stdout",
     "output_type": "stream",
     "text": [
      "IP address is not allowed. Further investigation of login activity required\n"
     ]
    }
   ],
   "source": [
    "#scenario: check if IP addresses are in the allowed list\n",
    "\n",
    "allow_list = [\"192.168.243.140\", \"192.168.205.12\", \"192.168.151.162\", \"192.168.178.71\", \n",
    "              \"192.168.86.232\", \"192.168.3.24\", \"192.168.170.243\", \"192.168.119.173\"]\n",
    "\n",
    "ip_addresses = [\"192.168.142.245\", \"192.168.109.50\", \"192.168.86.232\", \"192.168.131.147\",\n",
    "                \"192.168.205.12\", \"192.168.200.48\"]\n",
    "\n",
    "for i in ip_addresses:\n",
    "    if i in allow_list:\n",
    "        print(i)\n",
    "        print(\"Valid IP\")\n",
    "    else:\n",
    "        print(\"IP address is not allowed. Further investigation of login activity required\")\n",
    "        break"
   ]
  },
  {
   "cell_type": "code",
   "execution_count": 77,
   "id": "e08da80d",
   "metadata": {},
   "outputs": [
    {
     "name": "stdout",
     "output_type": "stream",
     "text": [
      "5000\n",
      "5005\n",
      "5010\n",
      "5015\n",
      "5020\n",
      "5025\n",
      "5030\n",
      "5035\n",
      "5040\n",
      "5045\n",
      "5050\n",
      "5055\n",
      "5060\n",
      "5065\n",
      "5070\n",
      "5075\n",
      "5080\n",
      "5085\n",
      "5090\n",
      "5095\n",
      "5100 [Only 10 valid employee ids remaining]\n",
      "5100\n",
      "5105\n",
      "5110\n",
      "5115\n",
      "5120\n",
      "5125\n",
      "5130\n",
      "5135\n",
      "5140\n",
      "5145\n",
      "5150\n"
     ]
    }
   ],
   "source": [
    "#Generating a 4-digit employee ID that is divisible by 5. Digits must include both 5000 and 5150\n",
    "\n",
    "i = 5000\n",
    "\n",
    "while i >= 5000 and i <=5150:\n",
    "    print(i)\n",
    "    i = i + 5\n",
    "    \n",
    "    if i == 5100:\n",
    "        print(i, \"[Only 10 valid employee ids remaining]\")"
   ]
  },
  {
   "cell_type": "code",
   "execution_count": null,
   "id": "af0054c2",
   "metadata": {},
   "outputs": [],
   "source": []
  }
 ],
 "metadata": {
  "kernelspec": {
   "display_name": "Python 3 (ipykernel)",
   "language": "python",
   "name": "python3"
  },
  "language_info": {
   "codemirror_mode": {
    "name": "ipython",
    "version": 3
   },
   "file_extension": ".py",
   "mimetype": "text/x-python",
   "name": "python",
   "nbconvert_exporter": "python",
   "pygments_lexer": "ipython3",
   "version": "3.11.3"
  }
 },
 "nbformat": 4,
 "nbformat_minor": 5
}
