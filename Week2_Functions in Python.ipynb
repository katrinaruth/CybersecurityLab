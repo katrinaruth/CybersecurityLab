{
 "cells": [
  {
   "cell_type": "code",
   "execution_count": 1,
   "id": "be5f6a55",
   "metadata": {},
   "outputs": [
    {
     "name": "stdout",
     "output_type": "stream",
     "text": [
      "Potential security issue. Investigate further.\n",
      "Potential security issue. Investigate further.\n",
      "Potential security issue. Investigate further.\n"
     ]
    }
   ],
   "source": [
    "#Defining and calling a function\n",
    "\n",
    "def alert():\n",
    "    for i in range(3):\n",
    "        print(\"Potential security issue. Investigate further.\")\n",
    "alert()"
   ]
  },
  {
   "cell_type": "code",
   "execution_count": 6,
   "id": "c78924cd",
   "metadata": {},
   "outputs": [
    {
     "name": "stdout",
     "output_type": "stream",
     "text": [
      "elarson, \n",
      "elarson, bmoreno, \n",
      "elarson, bmoreno, tshah, \n",
      "elarson, bmoreno, tshah, sgilmore, \n",
      "elarson, bmoreno, tshah, sgilmore, eraab, \n",
      "elarson, bmoreno, tshah, sgilmore, eraab, gesparza, \n",
      "elarson, bmoreno, tshah, sgilmore, eraab, gesparza, alevitsk, \n",
      "elarson, bmoreno, tshah, sgilmore, eraab, gesparza, alevitsk, wjaffrey, \n"
     ]
    }
   ],
   "source": [
    "def list_to_string():\n",
    "    username = [\"elarson\", \"bmoreno\", \"tshah\", \"sgilmore\", \"eraab\", \"gesparza\", \"alevitsk\", \"wjaffrey\"]\n",
    "    sum_var = \"\"\n",
    "    for i in username:\n",
    "        sum_var = sum_var + i + \", \"\n",
    "        print(sum_var)\n",
    "list_to_string()"
   ]
  },
  {
   "cell_type": "code",
   "execution_count": null,
   "id": "e29d1321",
   "metadata": {},
   "outputs": [],
   "source": []
  }
 ],
 "metadata": {
  "kernelspec": {
   "display_name": "Python 3 (ipykernel)",
   "language": "python",
   "name": "python3"
  },
  "language_info": {
   "codemirror_mode": {
    "name": "ipython",
    "version": 3
   },
   "file_extension": ".py",
   "mimetype": "text/x-python",
   "name": "python",
   "nbconvert_exporter": "python",
   "pygments_lexer": "ipython3",
   "version": "3.11.3"
  }
 },
 "nbformat": 4,
 "nbformat_minor": 5
}
